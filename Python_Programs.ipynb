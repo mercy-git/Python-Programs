{
 "cells": [
  {
   "cell_type": "markdown",
   "metadata": {},
   "source": [
    "# PYTHON PROGRAMS"
   ]
  },
  {
   "cell_type": "markdown",
   "metadata": {},
   "source": [
    "# 1. Write a function that inputs a number and prints the multiplication table of that number"
   ]
  },
  {
   "cell_type": "code",
   "execution_count": 2,
   "metadata": {
    "scrolled": true
   },
   "outputs": [
    {
     "name": "stdout",
     "output_type": "stream",
     "text": [
      "Enter a number: 45\n",
      "\n",
      "45 Tables:\n",
      "\n",
      "45 X 1 = 45\n",
      "45 X 2 = 90\n",
      "45 X 3 = 135\n",
      "45 X 4 = 180\n",
      "45 X 5 = 225\n",
      "45 X 6 = 270\n",
      "45 X 7 = 315\n",
      "45 X 8 = 360\n",
      "45 X 9 = 405\n",
      "45 X 10 = 450\n",
      "45 X 11 = 495\n",
      "45 X 12 = 540\n"
     ]
    }
   ],
   "source": [
    "def multiplication_table(multiplicand):\n",
    "    print(\"\\n{} Tables:\\n\".format(multiplicand))\n",
    "    for multiplier in range(1, 13):\n",
    "        print(\"{0} X {1} = {product}\".format(multiplicand, multiplier, product = multiplicand * multiplier))\n",
    "        \n",
    "number = int(input('Enter a number: '))\n",
    "multiplication_table(number)"
   ]
  },
  {
   "cell_type": "markdown",
   "metadata": {},
   "source": [
    "# 2. Write a program to print twin primes less than 1000. \n",
    "If 2 consecutive odd numbers are both prime then they are known as twin primes."
   ]
  },
  {
   "cell_type": "code",
   "execution_count": 3,
   "metadata": {},
   "outputs": [
    {
     "name": "stdout",
     "output_type": "stream",
     "text": [
      "Twin Primes less than 1000: \n",
      "3 and 5\t5 and 7\t11 and 13\t17 and 19\t29 and 31\t41 and 43\t59 and 61\t71 and 73\t101 and 103\t107 and 109\t137 and 139\t149 and 151\t179 and 181\t191 and 193\t197 and 199\t227 and 229\t239 and 241\t269 and 271\t281 and 283\t311 and 313\t347 and 349\t419 and 421\t431 and 433\t461 and 463\t521 and 523\t569 and 571\t599 and 601\t617 and 619\t641 and 643\t659 and 661\t809 and 811\t821 and 823\t827 and 829\t857 and 859\t881 and 883\t"
     ]
    }
   ],
   "source": [
    "all_primes = []\n",
    "for num in range(2,1000):\n",
    "    prime = True\n",
    "    for divisor in range(2,num):\n",
    "        if num % divisor == 0:\n",
    "            prime = False\n",
    "            break;\n",
    "    if prime:\n",
    "        all_primes.append(num)\n",
    "        \n",
    "twin_primes = []; index = 0\n",
    "\n",
    "while index < len(all_primes) - 1:\n",
    "    if all_primes[index] % 2 == 1 and all_primes[index + 1] % 2 == 1 and all_primes[index + 1] - all_primes[index] == 2:\n",
    "        twin_primes.append((all_primes[index], all_primes[index + 1]))\n",
    "    index += 1\n",
    "    \n",
    "print(\"Twin Primes less than 1000: \")\n",
    "for prime1, prime2 in twin_primes:\n",
    "    print(\"{0} and {1}\".format(prime1, prime2), end = '\\t')\n",
    "        \n",
    "        \n",
    "            "
   ]
  },
  {
   "cell_type": "markdown",
   "metadata": {},
   "source": [
    "# 3. Write a program to find out the prime factors of a number. \n",
    "Example: prime factors of 56 - 2, 2, 2, 7"
   ]
  },
  {
   "cell_type": "code",
   "execution_count": 111,
   "metadata": {},
   "outputs": [
    {
     "name": "stdout",
     "output_type": "stream",
     "text": [
      "Enter a number: 56\n",
      "The prime factors of the number 56 are:  7 2 2 2 "
     ]
    }
   ],
   "source": [
    "def prime_factor(num):   \n",
    "    factor = 2\n",
    "    \n",
    "    while factor < num:\n",
    "        if num % factor == 0:\n",
    "            prime_factor(num // factor)\n",
    "            break\n",
    "        factor += 1\n",
    "        \n",
    "    print(factor, end = ' ')\n",
    "    \n",
    "num = int(input('Enter a number: '))\n",
    "print(\"The prime factors of the number {} are: \".format(num), end = ' ')\n",
    "prime_factor(num)"
   ]
  },
  {
   "cell_type": "markdown",
   "metadata": {},
   "source": [
    "# 4. Write a program to implement these formula of permutations and combinations. \n",
    "Number of permutations of n objects taken r at a time: p(n,r) = n! / (n-r)!. \n",
    "\n",
    "Number of combinations of n objects taken r at a time is: c(n,r) = n! / r! * (n-r)! = p(n,r) / r!."
   ]
  },
  {
   "cell_type": "code",
   "execution_count": 112,
   "metadata": {},
   "outputs": [
    {
     "name": "stdout",
     "output_type": "stream",
     "text": [
      "-------------------------Permutations & combinations-------------------------\n",
      "Enter n: 4\n",
      "Enter r: 3\n",
      "Number of permutations of 4 objects taken 3 at a time: 24\n",
      "Number of combinations of 4 objects taken 3 at a time: 4\n"
     ]
    }
   ],
   "source": [
    "def fact(f):\n",
    "    return 1 if f == 1 else f * fact(f - 1)\n",
    "\n",
    "print('-' * 25 + 'Permutations & combinations' + '-' * 25)\n",
    "n = int(input('Enter n: '))\n",
    "r = int(input('Enter r: '))\n",
    "\n",
    "p = fact(n) // fact(n - r)\n",
    "c = p // fact(r)\n",
    "\n",
    "print('Number of permutations of {n} objects taken {r} at a time: {p}'.format(n = n, r = r, p = p))\n",
    "print('Number of combinations of {n} objects taken {r} at a time: {c}'.format(n = n,r = r, c = c))\n",
    "        "
   ]
  },
  {
   "cell_type": "markdown",
   "metadata": {},
   "source": [
    "# 5. Write a function that converts a decimal number to a binary number."
   ]
  },
  {
   "cell_type": "code",
   "execution_count": 101,
   "metadata": {},
   "outputs": [
    {
     "name": "stdout",
     "output_type": "stream",
     "text": [
      "Enter a decimal number: 50\n",
      "The binary number is 110010\n"
     ]
    }
   ],
   "source": [
    "def get_binary(decimal):\n",
    "    return 0 if decimal == 0 else decimal % 2 + 10 * get_binary(decimal // 2)\n",
    "\n",
    "num = int(input('Enter a decimal number: '))\n",
    "print(\"The binary number is {}\".format(get_binary(num)))"
   ]
  },
  {
   "cell_type": "markdown",
   "metadata": {},
   "source": [
    "# 6. Write a function cubesum() that accepts an integer and returns the sum of the cubes of individual digits of that number. Using this cubesum() function to make function printArmstrong and isArmstrong to print Armstrong numbers and to find whether is an Armstrong number."
   ]
  },
  {
   "cell_type": "code",
   "execution_count": 113,
   "metadata": {},
   "outputs": [
    {
     "name": "stdout",
     "output_type": "stream",
     "text": [
      "Enter a number: 153\n",
      "153 is an Armstrong number\n",
      "\n",
      "Armstrong numbers:\n",
      "[0, 1, 153, 370, 371, 407]\n"
     ]
    }
   ],
   "source": [
    "def cubesum(num):\n",
    "    return 0 if num == 0 else pow(num % 10,3) + cubesum(num // 10)\n",
    "\n",
    "def isArmstrong(num):\n",
    "    return True if num == cubesum(num) else False\n",
    "\n",
    "def printArmstrong():\n",
    "    print(\"\\nArmstrong numbers:\")\n",
    "    print(list(filter(isArmstrong,list(range(1000)))))\n",
    "    \n",
    "num = int(input(\"Enter a number: \"))\n",
    "if isArmstrong(num):\n",
    "    print(\"{} is an Armstrong number\".format(num))\n",
    "else:\n",
    "    print(\"{} is not an Armstrong number\".format(num))\n",
    "printArmstrong()"
   ]
  },
  {
   "cell_type": "markdown",
   "metadata": {},
   "source": [
    "# 7. Write a function prodDigits that inputs a number and returns the product of digits of that number"
   ]
  },
  {
   "cell_type": "code",
   "execution_count": 114,
   "metadata": {},
   "outputs": [
    {
     "name": "stdout",
     "output_type": "stream",
     "text": [
      "Enter  a number: 47\n",
      "Product of digits of the number 47 is 28\n"
     ]
    }
   ],
   "source": [
    "def prodDigits(num):\n",
    "    return 1 if num == 0 else num % 10 * prodDigits(num // 10)\n",
    "\n",
    "number = int(input(\"Enter  a number: \"))\n",
    "print(\"Product of digits of the number {0} is {1}\".format(number,prodDigits(number)))"
   ]
  },
  {
   "cell_type": "markdown",
   "metadata": {},
   "source": [
    "# 8. Using the function prodDigits(), write functions MDR() and MPersistence() that inputs a number and returns its multiplicative digital root and multiplicative persistence respectively.\n",
    "If all digits of a number n ar multiplied by each other repeating with the product, thhe one digit number obtained at last is called the multiplicative digit root of n.\n",
    "The number of times digits need to be multiplied to reach one digit is the multiplicative persistence of n.\n",
    "\n",
    "Example: 86 -> 48 -> 32 -> 6 (MDR 6, MPersistence 3)\n",
    "         341 -> 12 -> 2 (MDR 2, MPersistence 2)"
   ]
  },
  {
   "cell_type": "code",
   "execution_count": 115,
   "metadata": {},
   "outputs": [
    {
     "name": "stdout",
     "output_type": "stream",
     "text": [
      "Enter a number: 86\n",
      "The Multiplicative Digital Root of 86 is 6\n",
      "The Multiplicative Persistence of 86 is 3\n"
     ]
    }
   ],
   "source": [
    "def MDR(num):\n",
    "    return num if num >= 0 and num <= 9 else MDR(prodDigits(num))\n",
    "def MPersistence(num):\n",
    "    return 0 if num >=0 and num <= 9 else 1 + MPersistence(prodDigits(num))\n",
    "\n",
    "number = int(input(\"Enter a number: \"))\n",
    "print(\"The Multiplicative Digital Root of {} is {}\".format(number, MDR(number)))\n",
    "print(\"The Multiplicative Persistence of {} is {}\".format(number, MPersistence(number)))\n",
    "    "
   ]
  },
  {
   "cell_type": "markdown",
   "metadata": {},
   "source": [
    "# 9. Write a function sumPdivisors() that finds the sum of proper divisors of a number. \n",
    "Proper divisors of a number are those numbers by which the number is divisible, except the number itself.\n",
    "\n",
    "For example proper divisors of 36 are 1,2,3,4,6,9,18"
   ]
  },
  {
   "cell_type": "code",
   "execution_count": 116,
   "metadata": {},
   "outputs": [
    {
     "name": "stdout",
     "output_type": "stream",
     "text": [
      "Enter a number: 36\n",
      "The sum of proper divisors of the number 36 is 55\n"
     ]
    }
   ],
   "source": [
    "def sumPdivisors(num):\n",
    "    return sum(list(filter(lambda pdivisors : num % pdivisors == 0, list(range(1,num)))))\n",
    "\n",
    "number = int(input(\"Enter a number: \"))\n",
    "print(\"The sum of proper divisors of the number {num} is {sum_pd}\".format(num = number, sum_pd = sumPdivisors(number)))"
   ]
  },
  {
   "cell_type": "markdown",
   "metadata": {},
   "source": [
    "# 10. Write a program to print all the perfect numbers in a given range.\n",
    "A number is called perfect if the sum of proper divisors of that number is equal to that number. \n",
    "For example 28 is perfect number, since 1 + 2 + 4 + 7 + 14 = 28."
   ]
  },
  {
   "cell_type": "code",
   "execution_count": 51,
   "metadata": {},
   "outputs": [
    {
     "name": "stdout",
     "output_type": "stream",
     "text": [
      "Enter the starting number: 1\n",
      "Enter the ending number: 1000\n",
      "All the perfect numbers between 1 and 1000 are [6, 28, 496].\n"
     ]
    }
   ],
   "source": [
    "start = int(input(\"Enter the starting number: \"))\n",
    "end = int(input(\"Enter the ending number: \"))\n",
    "\n",
    "perfect_numbers = list(filter(lambda num : num == sumPdivisors(num), list(range(start, end + 1))))\n",
    "\n",
    "if perfect_numbers:\n",
    "    print(\"All the perfect numbers between {0} and {1} are {2}.\".format(start, end, perfect_numbers))\n",
    "else:\n",
    "    print(\"There are no perfect numbers between the provided range {} and {}.\".format(start, end))"
   ]
  },
  {
   "cell_type": "markdown",
   "metadata": {},
   "source": [
    "# 11. Write a function to print pairs of amicable numbers in a range.\n",
    "Two different numbers are called amicable numbers if the sum of the proper divisors of each is equal to the other number. \n",
    "\n",
    "For example 220 and 284 are amicable numbers.\n",
    "Sum of proper divisors of 220 = 284.\n",
    "Sum of proper divisors of 284 = 220."
   ]
  },
  {
   "cell_type": "code",
   "execution_count": 117,
   "metadata": {},
   "outputs": [
    {
     "name": "stdout",
     "output_type": "stream",
     "text": [
      "Enter the range's starting number: 200\n",
      "Enter the range's ending number: 3000\n",
      "\n",
      "Pairs of Amicable numbers in the range 200 - 3000 are: \n",
      "220 284\n",
      "1184 1210\n",
      "2620 2924\n"
     ]
    }
   ],
   "source": [
    "def sumPdivisors(num):\n",
    "    return sum(list(filter(lambda pdivisors : num % pdivisors == 0, list(range(1, num)))))\n",
    "\n",
    "def amicable_numbers(start, end):\n",
    "    amicable = {}\n",
    "    \n",
    "    for num in range(start, end + 1):\n",
    "        aliquot = sumPdivisors(num)\n",
    "        if sumPdivisors(aliquot) == num and num != aliquot and aliquot not in amicable:\n",
    "            amicable[num] = aliquot\n",
    "            \n",
    "    return amicable\n",
    "\n",
    "start = int(input(\"Enter the range's starting number: \"))\n",
    "end = int(input(\"Enter the range's ending number: \"))\n",
    "amicable = amicable_numbers(start, end)\n",
    "\n",
    "if amicable:\n",
    "    print(\"\\nPairs of Amicable numbers in the range {} - {} are: \".format(start, end))\n",
    "    for number, aliquot in amicable.items():\n",
    "        print(number, aliquot)\n",
    "else:\n",
    "    print(\"\\nThere are no amicable numbers in the provided range {} - {}.\".format(start, end))"
   ]
  },
  {
   "cell_type": "markdown",
   "metadata": {},
   "source": [
    "# 12. Write a program which can filter odd numbers in a list by using filter function."
   ]
  },
  {
   "cell_type": "code",
   "execution_count": 119,
   "metadata": {},
   "outputs": [
    {
     "name": "stdout",
     "output_type": "stream",
     "text": [
      "Enter a list of numbers seperated by space: 23 45 65 44 78 22\n",
      "\n",
      "List after filtering the odds: [44, 78, 22]\n"
     ]
    }
   ],
   "source": [
    "numbers_list = [int(num) for num in input(\"Enter a list of numbers seperated by space: \").split()]\n",
    "filter_odds = list(filter(lambda x : x % 2 != 1, numbers_list))\n",
    "\n",
    "print(\"\\nList after filtering the odds: {}\".format(filter_odds))"
   ]
  },
  {
   "cell_type": "markdown",
   "metadata": {},
   "source": [
    "# 13. Write a program which can map() to make a list whose elements are cube of elements in a given list."
   ]
  },
  {
   "cell_type": "code",
   "execution_count": 120,
   "metadata": {},
   "outputs": [
    {
     "name": "stdout",
     "output_type": "stream",
     "text": [
      "Enter a list of numbers seperated by space: 6 7 8 9 11\n",
      "\n",
      "The cubes of the numbers [6, 7, 8, 9, 11] are [216, 343, 512, 729, 1331] respectively.\n"
     ]
    }
   ],
   "source": [
    "numbers_list = [int(num) for num in input(\"Enter a list of numbers seperated by space: \").split()]\n",
    "cubes_list = list(map(lambda num : pow(num, 3), numbers_list))\n",
    "\n",
    "print(\"\\nThe cubes of the numbers {} are {} respectively.\".format(numbers_list, cubes_list))"
   ]
  },
  {
   "cell_type": "markdown",
   "metadata": {},
   "source": [
    "# 14. Write a program which can map() and filter() to make a list whose elements are cube of even numbers in a given list."
   ]
  },
  {
   "cell_type": "code",
   "execution_count": 121,
   "metadata": {},
   "outputs": [
    {
     "name": "stdout",
     "output_type": "stream",
     "text": [
      "Enter a list of numbers seperated by space: 6 7 8 9 11 12 13 14\n",
      "\n",
      "The cubes of the numbers [6, 8, 12, 14] are [216, 512, 1728, 2744] respectively.\n"
     ]
    }
   ],
   "source": [
    "numbers = [int(num) for num in input(\"Enter a list of numbers seperated by space: \").split()]\n",
    "\n",
    "evens = list(filter(lambda num : num % 2 == 0, numbers))\n",
    "even_cubes = list(map(lambda num : pow(num, 3), evens))\n",
    "\n",
    "print(\"\\nThe cubes of the numbers {} are {} respectively.\".format(evens, even_cubes))"
   ]
  }
 ],
 "metadata": {
  "kernelspec": {
   "display_name": "Python 3",
   "language": "python",
   "name": "python3"
  },
  "language_info": {
   "codemirror_mode": {
    "name": "ipython",
    "version": 3
   },
   "file_extension": ".py",
   "mimetype": "text/x-python",
   "name": "python",
   "nbconvert_exporter": "python",
   "pygments_lexer": "ipython3",
   "version": "3.6.5"
  }
 },
 "nbformat": 4,
 "nbformat_minor": 2
}
