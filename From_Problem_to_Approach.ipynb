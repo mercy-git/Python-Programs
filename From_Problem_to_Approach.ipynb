{
  "nbformat": 4,
  "nbformat_minor": 0,
  "metadata": {
    "kernelspec": {
      "display_name": "Python 3",
      "language": "python",
      "name": "python3"
    },
    "language_info": {
      "codemirror_mode": {
        "name": "ipython",
        "version": 3
      },
      "file_extension": ".py",
      "mimetype": "text/x-python",
      "name": "python",
      "nbconvert_exporter": "python",
      "pygments_lexer": "ipython3",
      "version": "3.7.3"
    },
    "toc": {
      "base_numbering": 1,
      "nav_menu": {},
      "number_sections": true,
      "sideBar": true,
      "skip_h1_title": false,
      "title_cell": "Table of Contents",
      "title_sidebar": "Contents",
      "toc_cell": false,
      "toc_position": {},
      "toc_section_display": true,
      "toc_window_display": true
    },
    "colab": {
      "name": "From Problem to Approach.ipynb",
      "provenance": [],
      "include_colab_link": true
    }
  },
  "cells": [
    {
      "cell_type": "markdown",
      "metadata": {
        "id": "view-in-github",
        "colab_type": "text"
      },
      "source": [
        "<a href=\"https://colab.research.google.com/github/mercy-git/Python-Programs/blob/master/From_Problem_to_Approach.ipynb\" target=\"_parent\"><img src=\"https://colab.research.google.com/assets/colab-badge.svg\" alt=\"Open In Colab\"/></a>"
      ]
    },
    {
      "cell_type": "markdown",
      "metadata": {
        "id": "HNs6CHzt8Vw8",
        "colab_type": "text"
      },
      "source": [
        "# From Problem to Approach"
      ]
    },
    {
      "cell_type": "markdown",
      "metadata": {
        "id": "GeIDz-jM8Vw-",
        "colab_type": "text"
      },
      "source": [
        "## Introduction\n",
        "The aim of these labs is to reinforce the concepts that we discussed in each module's videos. These labs will revolve around the use case of food recipes, and as well, we will walk through the process that data scientists usually follow when trying to solve a problem. Let's get started!\n",
        "\n",
        "In this lab, we will start learning about the data science methodology, and focus on the **Business Understanding** and the **Analytic Approach** stages.\n",
        "\n",
        "------------"
      ]
    },
    {
      "cell_type": "markdown",
      "metadata": {
        "id": "nUIxrlIv8Vw_",
        "colab_type": "text"
      },
      "source": [
        "## Business Understanding <a id=\"0\"></a>"
      ]
    },
    {
      "cell_type": "markdown",
      "metadata": {
        "id": "i1nGWI6O8VxA",
        "colab_type": "text"
      },
      "source": [
        "This is the **Data Science Methodology**, a flowchart that begins with business understanding."
      ]
    },
    {
      "cell_type": "markdown",
      "metadata": {
        "id": "oQmn5GAH91k0",
        "colab_type": "text"
      },
      "source": [
        ""
      ]
    },
    {
      "cell_type": "markdown",
      "metadata": {
        "id": "2OQHepeb8VxA",
        "colab_type": "text"
      },
      "source": [
        "<img src=\"https://s3-api.us-geo.objectstorage.softlayer.net/cf-courses-data/CognitiveClass/DS0103EN/labs/images/lab1_fig1_flowchart_business_understanding.png\" width=500>"
      ]
    },
    {
      "cell_type": "markdown",
      "metadata": {
        "id": "chTR6sU68VxB",
        "colab_type": "text"
      },
      "source": [
        "#### Why is the business understanding stage important?"
      ]
    },
    {
      "cell_type": "markdown",
      "metadata": {
        "id": "CwkcIxpI8VxC",
        "colab_type": "text"
      },
      "source": [
        "Your Answer:"
      ]
    },
    {
      "cell_type": "markdown",
      "metadata": {
        "id": "ShwS6ED98VxD",
        "colab_type": "text"
      },
      "source": [
        "Double-click __here__ for the solution.\n",
        "<!-- The correct answer is:\n",
        "It helps clarify the goal of the entity asking the question.\n",
        "-->"
      ]
    },
    {
      "cell_type": "markdown",
      "metadata": {
        "id": "WekAAdnH8VxD",
        "colab_type": "text"
      },
      "source": [
        "#### Looking at this diagram, we immediately spot two outstanding features of the data science methodology."
      ]
    },
    {
      "cell_type": "markdown",
      "metadata": {
        "id": "clEwb3RN8VxE",
        "colab_type": "text"
      },
      "source": [
        "![dsm50.jpg](attachment:dsm50.jpg)"
      ]
    },
    {
      "cell_type": "markdown",
      "metadata": {
        "id": "lhsnZAgD8VxF",
        "colab_type": "text"
      },
      "source": [
        "Your Answer:\n",
        "1.\n",
        "2."
      ]
    },
    {
      "cell_type": "markdown",
      "metadata": {
        "id": "rLJH624k8VxF",
        "colab_type": "text"
      },
      "source": [
        "Double-click __here__ for the solution.\n",
        "<!--The correct answer is: \n",
        "\\\\ 1. The flowchart is highly iterative.\n",
        "\\\\ 2. The flowchart never ends. \n",
        "-->"
      ]
    },
    {
      "cell_type": "markdown",
      "metadata": {
        "id": "Gyomp5UY8VxG",
        "colab_type": "text"
      },
      "source": [
        "**Now let's illustrate the data science methodology with a case study.**\n",
        "\n",
        "Say, we are interested in automating the process of figuring out the cuisine of a given dish or recipe. Let's apply the business understanding stage to this problem."
      ]
    },
    {
      "cell_type": "markdown",
      "metadata": {
        "id": "gpn6SZry8VxH",
        "colab_type": "text"
      },
      "source": [
        "**Q. Can we predict the cuisine of a given dish using the name of the dish only?**"
      ]
    },
    {
      "cell_type": "markdown",
      "metadata": {
        "id": "TwWxLG2h8VxH",
        "colab_type": "text"
      },
      "source": [
        "Your Answer:\n"
      ]
    },
    {
      "cell_type": "markdown",
      "metadata": {
        "id": "aS6ugdkF8VxI",
        "colab_type": "text"
      },
      "source": [
        "Double-click __here__ for the solution.\n",
        "<!--The correct answer is: \n",
        "No.\n",
        "-->"
      ]
    },
    {
      "cell_type": "markdown",
      "metadata": {
        "id": "J-7UbduP8VxI",
        "colab_type": "text"
      },
      "source": [
        "**Q. What about by appearance only? Yes or No.**"
      ]
    },
    {
      "cell_type": "markdown",
      "metadata": {
        "id": "DDk0St_F8VxJ",
        "colab_type": "text"
      },
      "source": [
        "Your Answer:\n"
      ]
    },
    {
      "cell_type": "markdown",
      "metadata": {
        "id": "4YSTu2Vo8VxK",
        "colab_type": "text"
      },
      "source": [
        "Double-click __here__ for the solution.\n",
        "<!--The correct answer is: \n",
        "No, especially when it comes to countries in close geographical proximity such as Scandinavian countries, or Asian countries.\n",
        "-->"
      ]
    },
    {
      "cell_type": "markdown",
      "metadata": {
        "id": "wTcSI2zz8VxK",
        "colab_type": "text"
      },
      "source": [
        "**Q. What about determining the cuisine of a dish based on its ingredients?**"
      ]
    },
    {
      "cell_type": "markdown",
      "metadata": {
        "id": "0CKLo8hI8VxL",
        "colab_type": "text"
      },
      "source": [
        "Your Answer:\n"
      ]
    },
    {
      "cell_type": "markdown",
      "metadata": {
        "id": "UDM-LAKU8VxM",
        "colab_type": "text"
      },
      "source": [
        "Double-click __here__ for the solution.\n",
        "<!--The correct answer is: \n",
        "Potentially yes, as there are specific ingredients unique to each cuisine.\n",
        "-->"
      ]
    },
    {
      "cell_type": "markdown",
      "metadata": {
        "id": "xr3qI7Jd8VxM",
        "colab_type": "text"
      },
      "source": [
        "As you guessed, yes determining the cuisine of a given dish based on its ingredients seems like a viable solution as some ingredients are unique to cuisines. For example:"
      ]
    },
    {
      "cell_type": "markdown",
      "metadata": {
        "id": "G7LlPzP78VxN",
        "colab_type": "text"
      },
      "source": [
        "* When we talk about **French** cuisines, the first ingredient that comes to one's mind is bread or butter.\n",
        "* When we talk about **Japanese** cuisines, the first ingredient that comes to one's mind is seaweed or soy sauce.\n",
        "* When we talk about **indian** cuisines, the first ingredient that comes to one's mind is masala or chillis."
      ]
    },
    {
      "cell_type": "markdown",
      "metadata": {
        "id": "izBDYekC8VxN",
        "colab_type": "text"
      },
      "source": [
        "## Analytic Approach <a id=\"2\"></a>"
      ]
    },
    {
      "cell_type": "markdown",
      "metadata": {
        "id": "gfh5boRa8VxO",
        "colab_type": "text"
      },
      "source": [
        "<img src=\"https://s3-api.us-geo.objectstorage.softlayer.net/cf-courses-data/CognitiveClass/DS0103EN/labs/images/lab1_fig4_flowchart_analytic_approach.png\" width=500>"
      ]
    },
    {
      "cell_type": "markdown",
      "metadata": {
        "id": "7JXdGIFT8VxO",
        "colab_type": "text"
      },
      "source": [
        "Once the business problem has been clearly stated, the data scientist can define the analytic approach to solve the problem. This step involves expressing the problem in the context of statistical and machine-learning techniques, so that the stakeholders with the problem can identify the most suitable techniques for the desired outcome."
      ]
    },
    {
      "cell_type": "markdown",
      "metadata": {
        "id": "Zi7zx6I38VxP",
        "colab_type": "text"
      },
      "source": [
        "**Why is the analytic approach stage important?**"
      ]
    },
    {
      "cell_type": "markdown",
      "metadata": {
        "id": "rrApW7tI8VxQ",
        "colab_type": "text"
      },
      "source": [
        "Your Answer:"
      ]
    },
    {
      "cell_type": "markdown",
      "metadata": {
        "id": "UpFj7T4V8VxQ",
        "colab_type": "text"
      },
      "source": [
        "Double-click __here__ for the solution.\n",
        "<!--The correct answer is: \n",
        "Because it helps identify what type of models will be needed to address the question in hand most effectively.\n",
        "-->"
      ]
    },
    {
      "cell_type": "markdown",
      "metadata": {
        "id": "wJogMPox8VxR",
        "colab_type": "text"
      },
      "source": [
        "**Let's explore a machine learning algorithm, decision trees, and see if it is the right technique to automate the process of identifying the cuisine of a given recipe while simultaneously providing us with some insight on why a given recipe is believed to belong to a certain type of cuisine.**"
      ]
    },
    {
      "cell_type": "markdown",
      "metadata": {
        "id": "6DgOutUA8VxR",
        "colab_type": "text"
      },
      "source": [
        "This is a decision tree that a naive person might create manually. Starting at the top with all the recipes for all the cuisines in the world, if a recipe contains **rice**, then this decision tree would classify it as a **Japanese** cuisine. Otherwise, it would be classified as not a **Japanese** cuisine."
      ]
    },
    {
      "cell_type": "markdown",
      "metadata": {
        "id": "gZqJWJgL8VxS",
        "colab_type": "text"
      },
      "source": [
        "<img src=\"https://s3-api.us-geo.objectstorage.softlayer.net/cf-courses-data/CognitiveClass/DS0103EN/labs/images/lab1_fig5_decision_tree_3.png\" width=500>"
      ]
    },
    {
      "cell_type": "markdown",
      "metadata": {
        "id": "j6s_Dw4Q8VxT",
        "colab_type": "text"
      },
      "source": [
        "**Is this a good decision tree?  Yes or  No, and why?**"
      ]
    },
    {
      "cell_type": "markdown",
      "metadata": {
        "id": "VaJcb2yU8VxT",
        "colab_type": "text"
      },
      "source": [
        "Your answer:"
      ]
    },
    {
      "cell_type": "markdown",
      "metadata": {
        "id": "jEh0sCHf8VxT",
        "colab_type": "text"
      },
      "source": [
        "<!--The correct answer is: \n",
        "No, because a lot of dishes from other cuisines contain rice. Therefore, using rice as the ingredient in the Decision node to split on is not a good choice.\n",
        "-->"
      ]
    },
    {
      "cell_type": "markdown",
      "metadata": {
        "id": "2U2F3aEt8VxU",
        "colab_type": "text"
      },
      "source": [
        "**In order to build a very powerful decision tree for the recipe case study, let's take some time to learn more about decision trees.**"
      ]
    },
    {
      "cell_type": "markdown",
      "metadata": {
        "id": "QO1C518n8VxU",
        "colab_type": "text"
      },
      "source": [
        "* Decision trees are built using recursive partitioning to classify the data.\n",
        "* When partitioning the data, decision trees use the most predictive feature (ingredient in this case) to split the data.\n",
        "* **Predictiveness** is based on gain in information (decrease in impurity)"
      ]
    },
    {
      "cell_type": "markdown",
      "metadata": {
        "id": "iaNnVaZn8VxV",
        "colab_type": "text"
      },
      "source": [
        "**Suppose that our data is comprised of green triangles and red circles.**"
      ]
    },
    {
      "cell_type": "markdown",
      "metadata": {
        "id": "wvQuKbfC8VxV",
        "colab_type": "text"
      },
      "source": [
        "The following decision tree would be considered the optimal model for classifying the data into a node for green triangles and a node for red circles."
      ]
    },
    {
      "cell_type": "markdown",
      "metadata": {
        "id": "ogxCdCY_8VxW",
        "colab_type": "text"
      },
      "source": [
        "<img src=\"https://s3-api.us-geo.objectstorage.softlayer.net/cf-courses-data/CognitiveClass/DS0103EN/labs/images/lab1_fig6_decision_tree_5.png\" width=400>"
      ]
    },
    {
      "cell_type": "markdown",
      "metadata": {
        "id": "pXKkeyCA8VxW",
        "colab_type": "text"
      },
      "source": [
        "On the other hand, the following decision tree is an example of the worst-case scenario that the model could output."
      ]
    },
    {
      "cell_type": "markdown",
      "metadata": {
        "id": "Tamfka618VxX",
        "colab_type": "text"
      },
      "source": [
        "<img src=\"https://s3-api.us-geo.objectstorage.softlayer.net/cf-courses-data/CognitiveClass/DS0103EN/labs/images/lab1_fig7_decision_tree_2.png\" width=500>"
      ]
    },
    {
      "cell_type": "markdown",
      "metadata": {
        "id": "6jiEZev78VxX",
        "colab_type": "text"
      },
      "source": [
        "Both the leaf nodes, contain data points belonging to both the classes, resulting in many data points ultimately being misclassified."
      ]
    },
    {
      "cell_type": "markdown",
      "metadata": {
        "id": "0IJS0gdl8VxY",
        "colab_type": "text"
      },
      "source": [
        "**A tree stops growing at a node when:**\n",
        "* Pure or nearly pure.\n",
        "* No remaining variables on which to further subset the data.\n",
        "* The tree has grown to a preselected size limit."
      ]
    },
    {
      "cell_type": "markdown",
      "metadata": {
        "id": "kHkyCKp68VxY",
        "colab_type": "text"
      },
      "source": [
        "**Here are some characteristics of decision trees:**"
      ]
    },
    {
      "cell_type": "markdown",
      "metadata": {
        "id": "sDAa2AYO8VxZ",
        "colab_type": "text"
      },
      "source": [
        "<img src=\"https://s3-api.us-geo.objectstorage.softlayer.net/cf-courses-data/CognitiveClass/DS0103EN/labs/images/lab1_fig8_decision_trees_table.png\" width=800>"
      ]
    },
    {
      "cell_type": "markdown",
      "metadata": {
        "id": "Iql2Cemc8VxZ",
        "colab_type": "text"
      },
      "source": [
        "Now let's put what we learned about decision trees to use. Let's try and build a much better version of the decision tree for our recipe problem."
      ]
    },
    {
      "cell_type": "markdown",
      "metadata": {
        "id": "bTN7PKLx8Vxa",
        "colab_type": "text"
      },
      "source": [
        "<img src=\"https://s3-api.us-geo.objectstorage.softlayer.net/cf-courses-data/CognitiveClass/DS0103EN/labs/images/lab1_fig9_decision_tree_4.png\" width = 500>"
      ]
    },
    {
      "cell_type": "markdown",
      "metadata": {
        "id": "vjmaVMXT8Vxa",
        "colab_type": "text"
      },
      "source": [
        "I hope you agree that the above decision tree is a much better version than the previous one. Although we are still using **Rice** as the ingredient in the first *decision node*, recipes get divided into **Asian Food** and **Non-Asian Food**. **Asian Food** is then further divided into **Japanese** and **Not Japanese** based on the **Wasabi** ingredient. This process of splitting *leaf nodes* continues until each *leaf node* is pure, i.e., containing recipes belonging to only one cuisine."
      ]
    },
    {
      "cell_type": "markdown",
      "metadata": {
        "id": "yTOyQCio8Vxb",
        "colab_type": "text"
      },
      "source": [
        "Accordingly, decision trees is a suitable technique or algorithm for our recipe case study."
      ]
    }
  ]
}